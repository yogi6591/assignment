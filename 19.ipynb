{
  "nbformat": 4,
  "nbformat_minor": 0,
  "metadata": {
    "colab": {
      "name": "Untitled0.ipynb",
      "version": "0.3.2",
      "views": {},
      "default_view": {},
      "provenance": []
    },
    "kernelspec": {
      "name": "python3",
      "display_name": "Python 3"
    }
  },
  "cells": [
    {
      "metadata": {
        "id": "ch745WaH1B19",
        "colab_type": "text"
      },
      "cell_type": "markdown",
      "source": [
        "#Que-1.Create a numpy array with 10 elements of the shape(10,1) using np.random and find out the mean of the elements using basic numpy functions."
      ]
    },
    {
      "metadata": {
        "id": "LuIlP-o21MEw",
        "colab_type": "code",
        "colab": {
          "autoexec": {
            "startup": false,
            "wait_interval": 0
          }
        }
      },
      "cell_type": "code",
      "source": [
        "a=num.random.random((10,1))\n",
        "# print(\"Mean = \",a.mean())\n"
      ],
      "execution_count": 0,
      "outputs": []
    },
    {
      "metadata": {
        "id": "vNnL5fEQ1A0y",
        "colab_type": "text"
      },
      "cell_type": "markdown",
      "source": [
        "#Que-2.Create a numpy array with 20 elements of the shape(20,1) using np.random find the variance and standard deviation of the elements."
      ]
    },
    {
      "metadata": {
        "id": "MLmDwIgM2dlV",
        "colab_type": "code",
        "colab": {
          "autoexec": {
            "startup": false,
            "wait_interval": 0
          }
        }
      },
      "cell_type": "code",
      "source": [
        "b=num.random.random((20,1))\n",
        "print(\"Standard Deviation = \",b.std())\n",
        "print(\"Variance = \",b.var())\n"
      ],
      "execution_count": 0,
      "outputs": []
    },
    {
      "metadata": {
        "id": "tP90i_n02lnb",
        "colab_type": "text"
      },
      "cell_type": "markdown",
      "source": [
        "#Que-3.Create a numpy array A of shape(10,20) and B of shape (20,25) using np.random. Print the matrix which is the matrix multiplication of A and B. The shape of the new matrix should be (10,25). Using basic numpy math functions only find the sum of all the elements of the new matrix."
      ]
    },
    {
      "metadata": {
        "id": "nAtOTICd2xok",
        "colab_type": "code",
        "colab": {
          "autoexec": {
            "startup": false,
            "wait_interval": 0
          }
        }
      },
      "cell_type": "code",
      "source": [
        "A=num.random.random((10,20))\n",
        "B=num.random.random((20,25))\n",
        "print(num.matmul(A,B))\n"
      ],
      "execution_count": 0,
      "outputs": []
    },
    {
      "metadata": {
        "id": "4kk0yMtE26D4",
        "colab_type": "text"
      },
      "cell_type": "markdown",
      "source": [
        "#Que-4.Create a numpy array A of shape(10,1).Using the basic operations of the numpy array generate an array of shape(10,1) such that each element is the following function applied on each element of A. \n",
        "\n",
        "f(x)=1 / (1 + exp(-x)) \n",
        "Apply this function to each element of A and print the new array holding the value the function returns"
      ]
    },
    {
      "metadata": {
        "id": "g4cBhxWu3FTi",
        "colab_type": "code",
        "colab": {
          "autoexec": {
            "startup": false,
            "wait_interval": 0
          },
          "base_uri": "https://localhost:8080/",
          "height": 187
        },
        "outputId": "9132dc0c-d0d5-47df-c608-d38434af9741",
        "executionInfo": {
          "status": "ok",
          "timestamp": 1530784558460,
          "user_tz": -330,
          "elapsed": 1200,
          "user": {
            "displayName": "What's app status",
            "photoUrl": "//lh6.googleusercontent.com/-LNbXQca3qpw/AAAAAAAAAAI/AAAAAAAAAkk/GLcO2xPMKA0/s50-c-k-no/photo.jpg",
            "userId": "105614975869950470434"
          }
        }
      },
      "cell_type": "code",
      "source": [
        "import numpy as num\n",
        "# B=[]\n",
        "# A=num.random.random((10,1))\n",
        "# #print(A)\n",
        "# for i in A:\n",
        "#     B.append(float(1/(1+num.exp(-i))))\n",
        "#print(B)\n",
        "\n",
        "\n",
        "\n",
        "#OR\n",
        "\n",
        "\n",
        "def calc(y):\n",
        "    return(1/(1+num.exp(-y)))\n",
        "\n",
        "x = num.random.random((10,1))\n",
        "z=[]\n",
        "for y in x:\n",
        "    # b=int(y*10)\n",
        "    # print(b)\n",
        "    #ans=calc(b)\n",
        "    ans=calc(y)\n",
        "    z.append(ans)\n",
        "\n",
        "print(num.array(z))"
      ],
      "execution_count": 2,
      "outputs": [
        {
          "output_type": "stream",
          "text": [
            "[[0.61056839]\n",
            " [0.61288823]\n",
            " [0.64244044]\n",
            " [0.50164869]\n",
            " [0.72766503]\n",
            " [0.64245532]\n",
            " [0.70705373]\n",
            " [0.52608304]\n",
            " [0.6045437 ]\n",
            " [0.59463322]]\n"
          ],
          "name": "stdout"
        }
      ]
    }
  ]
}